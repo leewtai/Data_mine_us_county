import unittest
import numpy as np
from sklearn.linear_model import LinearRegression
from report import fit_best_polynomial

class TestFitBestPolynomial(unittest.TestCase):
    def setUp(self):
        self.X = np.array([[1], [2], [3], [4], [5]])
        self.Y = np.array([2, 4, 6, 8, 10])

if __name__ == '__main__':
    unittest.main()
