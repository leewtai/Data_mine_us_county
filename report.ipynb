{
 "cells": [
  {
   "cell_type": "code",
   "execution_count": 53,
   "id": "2e46584c",
   "metadata": {},
   "outputs": [],
   "source": [
    "from itertools import product\n",
    "import csv\n",
    "from sklearn.linear_model import LinearRegression\n",
    "import pandas as pd\n",
    "import numpy as np\n",
    "import matplotlib.pyplot as plt\n",
    "import seaborn as sns"
   ]
  },
  {
   "cell_type": "code",
   "execution_count": 54,
   "id": "54b302a0",
   "metadata": {},
   "outputs": [],
   "source": [
    "df = pd.read_csv(\n",
    "    'with_geo_household_cnt.csv',\n",
    "    usecols=['NAME', 'state', 'county', 'INTPTLAT', 'INTPTLON',\n",
    "             'B11002_003E', 'B11002_012E', 'year'])"
   ]
  },
  {
   "cell_type": "code",
   "execution_count": 55,
   "id": "11296484",
   "metadata": {},
   "outputs": [],
   "source": [
    "def fit_best_polynomial(X, Y, k=1):\n",
    "    \"\"\"\n",
    "    Fits a polynomial regression model of degree k to the input data.\n",
    "\n",
    "    This function performs polynomial regression by transforming the input features\n",
    "    to include higher-order terms up to the specified degree k. It then fits a\n",
    "    linear regression model to these transformed features.\n",
    "\n",
    "    Parameters:\n",
    "    X (array-like): The input feature(s). Should be a 1D or 2D array.\n",
    "    Y (array-like): The target values. Should have the same number of samples as X.\n",
    "    k (int, optional): The degree of the polynomial. Defaults to 1 (linear regression).\n",
    "\n",
    "    Returns:\n",
    "    numpy.ndarray: A 1D array containing the following elements:\n",
    "        - The intercept of the fitted model\n",
    "        - The coefficients of the polynomial terms (in ascending order of degree)\n",
    "        - The R-squared score of the fitted model\n",
    "\n",
    "    Raises:\n",
    "    ValueError: If X has more than one column (multivariate input is not supported).\n",
    "    \"\"\"\n",
    "    X = np.atleast_2d(X)\n",
    "    if X.shape[0] == 1:\n",
    "        X = X.T  \n",
    "    X_powers = X.copy()\n",
    "    for i in range(2, k+1):\n",
    "        X_powers = np.concatenate([X_powers, np.power(X, i)], axis=1)\n",
    "    if X.shape[1] != 1:\n",
    "        raise ValueError(\"fit_best_polynomial only supports one input feature (univariate regression).\")\n",
    "    mod = LinearRegression().fit(X_powers, Y)\n",
    "    intercept = np.ravel(mod.intercept_)      # Convert to 1D array\n",
    "    coefficients = np.ravel(mod.coef_)        # Convert to 1D array\n",
    "    r_squared = np.array([mod.score(X_powers, Y)])\n",
    "    return np.concatenate([intercept, coefficients, r_squared])"
   ]
  },
  {
   "cell_type": "code",
   "execution_count": 56,
   "id": "b83a618a",
   "metadata": {},
   "outputs": [],
   "source": [
    "def get_best_curve(sdf, census_var='B11002_003E'):\n",
    "    \"\"\"\n",
    "    Calculates polynomial regression statistics for a given census variable.\n",
    "\n",
    "    This function fits polynomial regression models of degrees 1, 2, and 3\n",
    "    to the data and returns the combined statistics for all models.\n",
    "\n",
    "    Parameters:\n",
    "    sdf (pandas.DataFrame): A DataFrame containing 'year' and census variable columns.\n",
    "    census_var (str, optional): The name of the census variable column to use.\n",
    "                                Defaults to 'B11002_003E'.\n",
    "\n",
    "    Returns:\n",
    "    numpy.ndarray: A 1D array containing concatenated statistics for polynomial\n",
    "                   regressions of degrees 1, 2, and 3. Each set of statistics includes\n",
    "                   intercept, coefficients, and R-squared score for the respective model.\n",
    "    \"\"\"\n",
    "    X = sdf.year.to_numpy()\n",
    "    Y = sdf[census_var].to_numpy()\n",
    "    poly_stats = []\n",
    "    for p in range(1, 4):\n",
    "        poly_stats.append(fit_best_polynomial(X, Y, p))\n",
    "    poly_stat_all = np.concatenate(poly_stats)\n",
    "    return poly_stat_all"
   ]
  },
  {
   "cell_type": "code",
   "execution_count": 61,
   "id": "aef675cd",
   "metadata": {},
   "outputs": [],
   "source": [
    "def calc_slope(coefs, x):\n",
    "    \"\"\"\n",
    "    Calculate the slope of a polynomial function at given x values.\n",
    "\n",
    "    This function computes the slope (first derivative) of a polynomial function\n",
    "    defined by the given coefficients at the specified x values.\n",
    "\n",
    "    Parameters:\n",
    "    coefs (list or array-like): Coefficients of the polynomial in ascending order of degree.\n",
    "                                The first element (index 0) is assumed to be the constant term.\n",
    "    x (array-like): The x values at which to calculate the slope.\n",
    "\n",
    "    Returns:\n",
    "    numpy.ndarray: An array of slope values corresponding to each input x value.\n",
    "\n",
    "    Note:\n",
    "    This function prints intermediate slope calculations for each term of the polynomial.\n",
    "    \"\"\"\n",
    "    x = np.asarray(x, dtype=float)\n",
    "    slope = np.zeros_like(x, dtype=float)\n",
    "    for j in range(1, len(coefs)): \n",
    "        slope += j * coefs[j] * np.power(x, j - 1)\n",
    "        \n",
    "    return slope"
   ]
  },
  {
   "cell_type": "code",
   "execution_count": null,
   "id": "d00be737",
   "metadata": {},
   "outputs": [],
   "source": []
  },
  {
   "cell_type": "code",
   "execution_count": 63,
   "id": "9637f37c",
   "metadata": {},
   "outputs": [],
   "source": [
    "df_grp = df.groupby(['NAME', 'state', 'county'])\n",
    "\n",
    "ts_fits = []\n",
    "names = []\n",
    "census_vars = ['B11002_003E', 'B11002_012E']"
   ]
  },
  {
   "cell_type": "code",
   "execution_count": 64,
   "id": "bb9bbf9e",
   "metadata": {},
   "outputs": [],
   "source": [
    "for grp, ind in df_grp.groups.items():\n",
    "    names.append(grp[0])\n",
    "    sdf = df.loc[ind, ].copy()\n",
    "    is_22 = sdf.year == 2022\n",
    "    best_curves = [np.concatenate([get_best_curve(sdf, cv),\n",
    "                                   sdf.loc[is_22, cv].to_numpy()]) for cv in census_vars]\n",
    "    curve_feats = [np.concatenate([get_feats(bc), bc[-1:]]) for bc in best_curves]"
   ]
  }
 ],
 "metadata": {
  "kernelspec": {
   "display_name": "Python 3",
   "language": "python",
   "name": "python3"
  },
  "language_info": {
   "codemirror_mode": {
    "name": "ipython",
    "version": 3
   },
   "file_extension": ".py",
   "mimetype": "text/x-python",
   "name": "python",
   "nbconvert_exporter": "python",
   "pygments_lexer": "ipython3",
   "version": "3.11.5"
  }
 },
 "nbformat": 4,
 "nbformat_minor": 5
}
