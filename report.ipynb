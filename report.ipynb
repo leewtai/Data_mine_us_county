{
 "cells": [
  {
   "cell_type": "markdown",
   "id": "4ed2a9d4",
   "metadata": {},
   "source": [
    "Give a summary of what you think the following project is doing. Limit your answer to one paragraph.\n",
    "- It seems that the project is using Python to analyze and visualize data related to a US census. More specifically, it is utilizing regression to visualize and explain changes in households. It attempts to fit a curve to model the household data for each year for married and unmarried households, but has technical issues that limit its functionality. The project also includes code to generate features related to the time series data.\n",
    "\n",
    "Please suggest at least one major non-technical improvement/correction they should do (e.g. writing, graphs, etc)\n",
    "- This is not completely related to code so I would consider it a non-technical improvement. They can improve the project by adding documentation to their methods. When I was going through the code, I found it difficult to understand what certain lines were meant to do or why they were even included. Something else they might consider is explaining why the year range of 2009 to 2023 was chosen. It isn't really explained so it isn't clear if this is arbitrary or if there's a specific reason for this range.\n",
    "\n",
    "Please suggest at least one major technical improvement/correction they should do.\n",
    "- The student should really check for exceptions that their code might throw and also find more *elegant* ways of writing their methods. For example, in the `fit_best_polynomial` method, it seems there are extra steps and weird conditions for the method to run that can be broken in a lot of cases. Like requiring X to be a a 2D array `(n, 1)` when it could be `(n,)`. Also, their slope calculation method was actually wrong since it was including a constant term that is not included in the derivative of the model. This resulted in null values. I also ran into a lot of exceptions when testing the code on sample data, which shows that the methods may not be generalized and might not work well with other datasets."
   ]
  },
  {
   "cell_type": "code",
   "execution_count": null,
   "id": "cfc536a7",
   "metadata": {},
   "outputs": [],
   "source": [
    "from itertools import product\n",
    "import csv\n",
    "from sklearn.linear_model import LinearRegression\n",
    "import pandas as pd\n",
    "import numpy as np\n",
    "import matplotlib.pyplot as plt\n",
    "import seaborn as sns"
   ]
  },
  {
   "cell_type": "markdown",
   "id": "0b3b986b",
   "metadata": {},
   "source": [
    "## My changes in ts_feat_gen.py:"
   ]
  },
  {
   "cell_type": "code",
   "execution_count": null,
   "id": "a8e8fe01",
   "metadata": {},
   "outputs": [],
   "source": [
    "def fit_best_polynomial(X, Y, k=1):\n",
    "    \"\"\"\n",
    "    Fits a polynomial regression model of degree k to the input data.\n",
    "\n",
    "    This function performs polynomial regression by transforming the input features\n",
    "    to include higher-order terms up to the specified degree k. It then fits a\n",
    "    linear regression model to these transformed features.\n",
    "\n",
    "    Parameters:\n",
    "    X (array-like): The input feature(s). Should be a 1D or 2D array.\n",
    "    Y (array-like): The target values. Should have the same number of samples as X.\n",
    "    k (int, optional): The degree of the polynomial. Defaults to 1 (linear regression).\n",
    "\n",
    "    Returns:\n",
    "    numpy.ndarray: A 1D array containing the following elements:\n",
    "        - The intercept of the fitted model\n",
    "        - The coefficients of the polynomial terms (in ascending order of degree)\n",
    "        - The R-squared score of the fitted model\n",
    "\n",
    "    Raises:\n",
    "    ValueError: If X has more than one column (multivariate input is not supported).\n",
    "    \"\"\"\n",
    "    X = np.atleast_2d(X) #Troubleshoot if input is 1D array\n",
    "    if X.shape[0] == 1:\n",
    "        X = X.T  \n",
    "    X_powers = X.copy()\n",
    "    for i in range(2, k+1):\n",
    "        X_powers = np.concatenate([X_powers, np.power(X, i)], axis=1) #Creates array with higher-order terms\n",
    "    if X.shape[1] != 1:\n",
    "        raise ValueError(\"fit_best_polynomial only supports one input feature (univariate regression).\")\n",
    "    mod = LinearRegression().fit(X_powers, Y)\n",
    "    intercept = np.ravel(mod.intercept_)      # Convert to 1D array\n",
    "    coefficients = np.ravel(mod.coef_)        # Convert to 1D array\n",
    "    r_squared = np.array([mod.score(X_powers, Y)])\n",
    "    return np.concatenate([intercept, coefficients, r_squared])\n"
   ]
  },
  {
   "cell_type": "code",
   "execution_count": null,
   "id": "2ada3292",
   "metadata": {},
   "outputs": [],
   "source": [
    "def get_best_curve(sdf, census_var='B11002_003E'):\n",
    "    \"\"\"\n",
    "    Calculates polynomial regression statistics for a given census variable.\n",
    "\n",
    "    This function fits polynomial regression models of degrees 1, 2, and 3\n",
    "    to the data and returns the combined statistics for all models.\n",
    "\n",
    "    Parameters:\n",
    "    sdf (pandas.DataFrame): A DataFrame containing 'year' and census variable columns.\n",
    "    census_var (str, optional): The name of the census variable column to use.\n",
    "                                Defaults to 'B11002_003E'.\n",
    "\n",
    "    Returns:\n",
    "    numpy.ndarray: A 1D array containing concatenated statistics for polynomial\n",
    "                   regressions of degrees 1, 2, and 3. Each set of statistics includes\n",
    "                   intercept, coefficients, and R-squared score for the respective model.\n",
    "    \"\"\"\n",
    "    X = sdf.year.to_numpy() #Slightly changed to prevent numpy shape error\n",
    "    Y = sdf[census_var].to_numpy()\n",
    "    poly_stats = []\n",
    "    for p in range(1, 4):\n",
    "        poly_stats.append(fit_best_polynomial(X, Y, p))\n",
    "    poly_stat_all = np.concatenate(poly_stats)\n",
    "    return poly_stat_all"
   ]
  },
  {
   "cell_type": "code",
   "execution_count": null,
   "id": "4d6b6bd4",
   "metadata": {},
   "outputs": [],
   "source": [
    "def calc_slope(coefs, x):\n",
    "    \"\"\"\n",
    "    Calculate the slope of a polynomial function at given x values.\n",
    "\n",
    "    This function computes the slope (first derivative) of a polynomial function\n",
    "    defined by the given coefficients at the specified x values.\n",
    "\n",
    "    Parameters:\n",
    "    coefs (list or array-like): Coefficients of the polynomial in ascending order of degree.\n",
    "                                The first element (index 0) is assumed to be the constant term.\n",
    "    x (array-like): The x values at which to calculate the slope.\n",
    "\n",
    "    Returns:\n",
    "    numpy.ndarray: An array of slope values corresponding to each input x value.\n",
    "\n",
    "    Note:\n",
    "    This function prints intermediate slope calculations for each term of the polynomial.\n",
    "    \"\"\"\n",
    "    x = np.asarray(x, dtype=float) #Troubleshoots type errors.\n",
    "    slope = np.zeros_like(x, dtype=float)\n",
    "    for j in range(1, len(coefs)): \n",
    "        slope += j * coefs[j] * np.power(x, j - 1) #Changed to exclude constant term and also simplify operation.\n",
    "        \n",
    "    return slope\n"
   ]
  }
 ],
 "metadata": {
  "kernelspec": {
   "display_name": "Python 3",
   "language": "python",
   "name": "python3"
  },
  "language_info": {
   "codemirror_mode": {
    "name": "ipython",
    "version": 3
   },
   "file_extension": ".py",
   "mimetype": "text/x-python",
   "name": "python",
   "nbconvert_exporter": "python",
   "pygments_lexer": "ipython3",
   "version": "3.11.5"
  }
 },
 "nbformat": 4,
 "nbformat_minor": 5
}
