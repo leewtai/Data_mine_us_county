{
 "cells": [
  {
   "cell_type": "markdown",
   "id": "0ce0ca00",
   "metadata": {},
   "source": [
    "## js5972\n",
    "## Juanita Santofimio"
   ]
  },
  {
   "cell_type": "markdown",
   "id": "3a66cdbc",
   "metadata": {},
   "source": [
    "### 1. Project summary\n"
   ]
  },
  {
   "cell_type": "markdown",
   "id": "583f3989",
   "metadata": {},
   "source": [
    "The objective of the project is to identify which states have undergone similar trends in shifting household compositions by studying the amount of married and single households. For each household group in each state, the household count data is modeled by a polynomial and its features are used for clustering across state. These features include the slope and acceleration of the curve, the actual count in 2022. and dummy variables that indicate whether the slope actually changed or not throughout time and whether the time series was modeled \"succesfully\" by the polynomial (r squared > .6). Applying k-means to these features results in 4 main clusters. Then these clusters become the target of a predictive task, where SVI data is used as features to predict what kind of shifts in trends of household composition did the county experienced. Presumably, this could be useful to anticipate what can of policy could be designed for poverty alliviation: family or individual oriented.   "
   ]
  },
  {
   "cell_type": "markdown",
   "id": "f0faf504",
   "metadata": {},
   "source": [
    "### 2. Non-technical improvements"
   ]
  },
  {
   "cell_type": "markdown",
   "id": "93e61876",
   "metadata": {},
   "source": [
    "1. Problem definition: it is not clear what this project aims to solve. It should be specified from the beginning how will the clustering or final predictions solve a real life issue and explain who will benefit from knowing this. \n",
    "2. Validation by interpreting the clusters: examples of what the clusters look like are shown, but we dont get to see the bigger picture of what it means. At plain sight, clusters 2 and 3 look rather similar (both increasing at an increasing rate for both counts). Trying to add meaning to the clusters would be useful as a validation measure as it can help evaluate the perfomance of the clustering. \n",
    "3. Filtering out some features before Random Forest: the features that turned out to be predictive of cluster are not very useful or too obvious. Specfically age, is obviously going to be correlated with household composition as people above 65 and under 18 are increasingly likely to be single. This issue stems directly from the lack of problem defition. \n"
   ]
  },
  {
   "cell_type": "markdown",
   "id": "d882947c",
   "metadata": {},
   "source": [
    "### 3. Technical improvement"
   ]
  },
  {
   "cell_type": "markdown",
   "id": "e2736247",
   "metadata": {},
   "source": [
    "Features are currently in absolute terms instead of relative terms, so the population size of the county is not being accounted for. Therefore, bigger counties are going to have bigger changes in household counts, even if the relative change was small, and the clustering will be biased by county size. \n",
    "\n",
    "To fix this, the Y value when the best curve is fitted can be normalized with respect to the county initial population, such that when slope or accelaration are calculated, it is measuring percentage change and not absolute change. "
   ]
  },
  {
   "cell_type": "markdown",
   "id": "01e12ae9",
   "metadata": {},
   "source": [
    "In the feature generation script (ts_feat_gen.py)\n",
    "\n",
    "-- After this line:\n",
    "\n",
    "Y = sdf[census_var].to_numpy().reshape(-1, 1)\n",
    "\n",
    "-- Add this line:\n",
    "\n",
    "Y = Y / Y[0]  \n",
    "\n",
    "\n"
   ]
  },
  {
   "cell_type": "code",
   "execution_count": null,
   "id": "9a0dee5f",
   "metadata": {},
   "outputs": [],
   "source": []
  }
 ],
 "metadata": {
  "kernelspec": {
   "display_name": "myenv",
   "language": "python",
   "name": "python3"
  },
  "language_info": {
   "codemirror_mode": {
    "name": "ipython",
    "version": 3
   },
   "file_extension": ".py",
   "mimetype": "text/x-python",
   "name": "python",
   "nbconvert_exporter": "python",
   "pygments_lexer": "ipython3",
   "version": "3.10.16"
  }
 },
 "nbformat": 4,
 "nbformat_minor": 5
}
