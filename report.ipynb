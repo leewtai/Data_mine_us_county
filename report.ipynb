{
 "cells": [
  {
   "cell_type": "code",
   "execution_count": 57,
   "id": "2e46584c",
   "metadata": {},
   "outputs": [],
   "source": [
    "from itertools import product\n",
    "import csv\n",
    "from sklearn.linear_model import LinearRegression\n",
    "import pandas as pd\n",
    "import numpy as np\n",
    "import matplotlib.pyplot as plt\n",
    "import seaborn as sns"
   ]
  },
  {
   "cell_type": "code",
   "execution_count": 81,
   "id": "11296484",
   "metadata": {},
   "outputs": [],
   "source": [
    "def fit_best_polynomial(X, Y, k=1):\n",
    "    \"\"\"\n",
    "    Fits a polynomial regression model of degree k to the input data.\n",
    "\n",
    "    This function takes input features X and target values Y, and fits a polynomial\n",
    "    regression model of degree k. It returns the intercept, coefficients, and R-squared\n",
    "    value of the fitted model.\n",
    "\n",
    "    Parameters:\n",
    "    X (array-like): Input features. Can be a 1D or 2D array.\n",
    "    Y (array-like): Target values.\n",
    "    k (int, optional): Degree of the polynomial. Defaults to 1 (linear regression).\n",
    "\n",
    "    Returns:\n",
    "    numpy.ndarray: A 1D array containing the intercept, coefficients, and R-squared value\n",
    "                   of the fitted model, in that order.\n",
    "    \"\"\"\n",
    "    X = np.atleast_2d(X)\n",
    "    if X.shape[0] == 1:\n",
    "        X = X.T  \n",
    "    X_powers = X.copy()\n",
    "    for i in range(2, k+1):\n",
    "        X_powers = np.concatenate([X_powers, np.power(X, i)], axis=1)\n",
    "    assert X_powers.shape[1] == k\n",
    "    mod = LinearRegression().fit(X_powers, Y)\n",
    "    intercept = np.array([mod.intercept_])  \n",
    "    coefficients = mod.coef_              \n",
    "    r_squared = np.array([mod.score(X_powers, Y)])  \n",
    "    return np.concatenate([intercept, coefficients, r_squared])"
   ]
  },
  {
   "cell_type": "code",
   "execution_count": 82,
   "id": "b13957a3",
   "metadata": {},
   "outputs": [
    {
     "data": {
      "text/plain": [
       "array([1.77635684e-15, 2.00000000e+00, 1.98830463e-16, 1.00000000e+00])"
      ]
     },
     "execution_count": 82,
     "metadata": {},
     "output_type": "execute_result"
    }
   ],
   "source": [
    "X = np.array([1,2,3,4,5])\n",
    "Y = np.array([2, 4, 6, 8, 10])\n",
    "\n",
    "output = fit_best_polynomial(X, Y, k = 2)\n",
    "output"
   ]
  }
 ],
 "metadata": {
  "kernelspec": {
   "display_name": "Python 3",
   "language": "python",
   "name": "python3"
  },
  "language_info": {
   "codemirror_mode": {
    "name": "ipython",
    "version": 3
   },
   "file_extension": ".py",
   "mimetype": "text/x-python",
   "name": "python",
   "nbconvert_exporter": "python",
   "pygments_lexer": "ipython3",
   "version": "3.11.5"
  }
 },
 "nbformat": 4,
 "nbformat_minor": 5
}
